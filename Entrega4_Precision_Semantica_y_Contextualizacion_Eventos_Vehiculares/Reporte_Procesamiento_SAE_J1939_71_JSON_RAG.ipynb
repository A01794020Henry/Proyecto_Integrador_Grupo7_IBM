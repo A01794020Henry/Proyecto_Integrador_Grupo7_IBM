{
 "cells": [
  {
   "cell_type": "markdown",
   "id": "25d8b618",
   "metadata": {},
   "source": [
    "# Procesamiento del PDF SAE J1939-71 y construcción del JSON de referencia para RAG\n",
    "\n",
    "Este cuaderno documenta, en formato de reporte académico, el proceso seguido por el equipo para extraer definiciones de SPN/PGN desde el documento SAE J1939-71, normalizarlas y generar un archivo JSON reutilizable como fuente de conocimiento para un sistema de Recuperación Aumentada por Generación (RAG) y su futura vinculación con archivos DBC.\n",
    "\n",
    "Autores: Equipo de trabajo del proyecto\n",
    "Fecha: 26 de octubre de 2025"
   ]
  },
  {
   "cell_type": "markdown",
   "id": "0f59917d",
   "metadata": {},
   "source": [
    "## Resumen ejecutivo\n",
    "\n",
    "Se diseñó e implementó un pipeline de extracción que obtiene el texto del PDF página a página, identifica y parsea bloques de definiciones de SPN mediante expresiones regulares tolerantes a variaciones de formato, normaliza atributos clave (longitud, resolución, offset, rango, tipo) y ensambla un JSON estructurado con secciones de metadata, guidelines, dbc_linkage, spns, pgns y traceability. Este JSON sirve como base para indexación semántica en un sistema RAG y facilita la posterior conciliación con archivos DBC para derivar posiciones de bits y nombres de señales definitivos."
   ]
  },
  {
   "cell_type": "markdown",
   "id": "66e5fadc",
   "metadata": {},
   "source": [
    "## Índice\n",
    "\n",
    "1. Introducción y objetivos\n",
    "2. Fundamento teórico: SAE J1939-71\n",
    "3. Arquitectura del pipeline\n",
    "4. Diseño del algoritmo y especificación del parser\n",
    "5. Estructura del JSON de referencia\n",
    "6. Validación y resultados\n",
    "7. Rendimiento y contratiempos\n",
    "8. Conclusiones\n",
    "9. Próximos pasos\n"
   ]
  },
  {
   "cell_type": "markdown",
   "id": "77f6dedc",
   "metadata": {},
   "source": [
    "## 1. Introducción y objetivos\n",
    "\n",
    "Este trabajo presenta el proceso seguido para transformar la información del PDF SAE J1939-71 en un artefacto estructurado (JSON) útil para un sistema RAG. Se priorizó la trazabilidad, la claridad de los campos y la compatibilidad futura con archivos DBC.\n",
    "\n",
    "Objetivos específicos:\n",
    "- Extraer programáticamente las definiciones de SPN con sus atributos principales.\n",
    "- Ensamblar un JSON autodescriptivo y estable para indexación semántica.\n",
    "- Definir lineamientos de vinculación con DBC sin duplicar responsabilidades.\n",
    "- Documentar supuestos, decisiones y limitaciones."
   ]
  },
  {
   "cell_type": "markdown",
   "id": "fe9553d5",
   "metadata": {},
   "source": [
    "## 2. Fundamento teórico: SAE J1939-71\n",
    "\n",
    "SAE J1939-71 define la Capa de Aplicación del estándar J1939, especificando Parámetros Sospechosos (SPN) y Números de Grupo de Parámetros (PGN). Cada SPN representa una magnitud medida o un estado de sistema, y puede pertenecer a uno o más PGN. Los mensajes se transmiten sobre CAN de 29 bits, descomponiendo el identificador en prioridad, página de datos, formato PDU (PF), específico PDU (PS) y dirección de origen (SA).\n",
    "\n",
    "Terminología esencial:\n",
    "- SPN: identificador único del parámetro con semántica definida por J1939-71.\n",
    "- PGN: agrupación lógica que determina el contenido del mensaje.\n",
    "- DBC: especificación de mensajes y señales a nivel de bits para buses CAN.\n"
   ]
  },
  {
   "cell_type": "markdown",
   "id": "7301b5bb",
   "metadata": {},
   "source": [
    "## 3. Arquitectura del pipeline\n",
    "\n",
    "```mermaid\n",
    "flowchart LR\n",
    "  A[PDF SAE J1939-71] --> B[Extracción de texto por página]\n",
    "  B --> C[Parser de bloques SPN (regex)]\n",
    "  C --> D[Normalización (longitud, resolución, rango, tipo)]\n",
    "  D --> E[Asociación SPN→PGN]\n",
    "  E --> F[Ensamblado del JSON (spns, pgns)]\n",
    "  F --> G[Validación y escritura a disco]\n",
    "  G --> H[j1939_71_reference.json]\n",
    "```\n",
    "\n",
    "Principios de diseño:\n",
    "- Separación de responsabilidades: extracción, parsing, normalización y salida.\n",
    "- Rendimiento: lectura por páginas con PyMuPDF y procesamiento por bloques con buffer de cola.\n",
    "- Observabilidad: registro de progreso por páginas y conteos acumulados de SPNs.\n"
   ]
  },
  {
   "cell_type": "markdown",
   "id": "cbda7355",
   "metadata": {},
   "source": [
    "## 4. Diseño del algoritmo y especificación del parser\n",
    "\n",
    "Criterios de extracción:\n",
    "- El encabezado del bloque inicia con la palabra clave \"SPN\" seguida de un identificador y el nombre del parámetro.\n",
    "- Las líneas subsecuentes incluyen Data Length, Resolution, Data Range, Type, Suspect Parameter Number y Parameter Group Number.\n",
    "\n",
    "Patrón regex de referencia (simplificado):\n",
    "\n",
    "```regex\n",
    "(?is)\\bspn\\s*([0-9]{3,6})\\s*-\\s*(.+?)\\s*-\\s*(.+?)\\s*\n",
    "Data\\s+Length:\\s*([^\\n]+)\\n\n",
    "Resolution:\\s*([^\\n]+)\\n\n",
    "Data\\s+Range:\\s*([^\\n]+)\\n\n",
    "Type:\\s*([^\\n]+)\\n\n",
    "Suspect\\s+Parameter\\s+Number:\\s*([0-9]{3,6})\\n\n",
    "Parameter\\s+Group\\s+Number:\\s*([^\\n]+?)\\s*(?=\\n\\s*spn\\s*[0-9]{3,6}\\s*-|\\Z)\n",
    "```\n",
    "\n",
    "Normalización:\n",
    "- Longitud: conversión a bits identificando \"bytes\" o \"bits\".\n",
    "- Resolución y offset: extracción de escala por bit y offset cuando se declara.\n",
    "- Rango: valores mínimos y máximos, con detección de unidades si no aparecen en Resolution.\n",
    "- Tipo: clasificación en \"Medido\" o \"Estado\" cuando corresponde.\n",
    "- PGNs: recopilación de identificadores citados en el bloque.\n"
   ]
  },
  {
   "cell_type": "markdown",
   "id": "eaf8f390",
   "metadata": {},
   "source": [
    "## 5. Estructura del JSON de referencia\n",
    "\n",
    "El JSON final incluye las siguientes secciones de primer nivel: metadata, guidelines, dbc_linkage, spns, pgns y traceability. A continuación se presenta un diagrama conceptual de los componentes.\n",
    "\n",
    "```mermaid\n",
    "classDiagram\n",
    "  class Root { metadata\\n guidelines\\n dbc_linkage\\n spns\\n pgns\\n traceability }\n",
    "  class Metadata { standard\\n description\\n source_document\\n created_at\\n language\\n schema_version }\n",
    "  class Guidelines { signal_characterization\\n message_format\\n charset\\n parameter_ranges\\n slot_allocation\\n adding_parameters_to_groups\\n transmission_rates\\n naming_conventions\\n multi_source_notes }\n",
    "  class DbcLinkage { can_id_composition\\n fields_mapping\\n matching_strategy }\n",
    "  class SPN { spn\\n name\\n description\\n units\\n data_length_bits\\n resolution\\n offset\\n range(min,max)\\n type\\n pgns[]\\n states\\n notes }\n",
    "  class PGN { pgn\\n name\\n data_length_bytes\\n data_page\\n pdu_format\\n pdu_specific\\n default_priority\\n transmission_rate\\n signals[]\\n notes }\n",
    "  class Signal { spn\\n name\\n start_bit\\n length\\n endianness\\n units\\n scale\\n offset\\n min\\n max\\n dbc_link }\n",
    "  Root --> Metadata\n",
    "  Root --> Guidelines\n",
    "  Root --> DbcLinkage\n",
    "  Root --> SPN\n",
    "  Root --> PGN\n",
    "  PGN --> Signal\n",
    "```\n",
    "\n",
    "Política de vinculación con DBC:\n",
    "- La clave semántica primaria es el SPN.\n",
    "- Las posiciones de bits (start_bit, length) se confirman en el DBC.\n",
    "- Se contrastan unidades, escala y offset para validar la correspondencia.\n"
   ]
  },
  {
   "cell_type": "code",
   "execution_count": null,
   "id": "1bda4162",
   "metadata": {},
   "outputs": [],
   "source": [
    "# Verificación del JSON generado: conteos y muestras tabulares\n",
    "from pathlib import Path\n",
    "import json\n",
    "\n",
    "JSON_PATH = Path(r'c:\\\\Users\\\\henry\\\\Documents\\\\GitHub\\\\Proyecto_Integrador_Grupo7_IBM\\\\Entrega4_Precision_Semantica_y_Contextualizacion_Eventos_Vehiculares\\\\j1939_71_reference.json')\n",
    "print('JSON existe:', JSON_PATH.exists(), str(JSON_PATH))\n",
    "\n",
    "if JSON_PATH.exists():\n",
    "    with open(JSON_PATH, 'r', encoding='utf-8') as f:\n",
    "        data = json.load(f)\n",
    "    top_keys = list(data.keys())\n",
    "    spns = data.get('spns', [])\n",
    "    pgns = data.get('pgns', [])\n",
    "    print('Claves de nivel superior:', top_keys)\n",
    "    print('Total SPNs:', len(spns))\n",
    "    print('Total PGNs:', len(pgns))\n",
    "else:\n",
    "    print('No se encontró el archivo JSON. Ejecute primero el pipeline de construcción.')"
   ]
  },
  {
   "cell_type": "code",
   "execution_count": null,
   "id": "5201575d",
   "metadata": {},
   "outputs": [],
   "source": [
    "# Tablas de ejemplo con pandas: primeras filas de SPNs y PGNs\n",
    "import pandas as pd\n",
    "\n",
    "if 'data' in globals():\n",
    "    spn_df = pd.DataFrame(data.get('spns', []))\n",
    "    pgn_df = pd.DataFrame(data.get('pgns', []))\n",
    "    # Selección de columnas relevantes para vista rápida\n",
    "    spn_cols = [c for c in ['spn', 'name', 'units', 'data_length_bits', 'resolution', 'offset', 'type', 'pgns'] if c in spn_df.columns]\n",
    "    pgn_cols = [c for c in ['pgn', 'name', 'data_length_bytes', 'pdu_format', 'pdu_specific', 'default_priority', 'transmission_rate'] if c in pgn_df.columns]\n",
    "    print('\\nVista SPNs (primeras 15 filas):')\n",
    "    display(spn_df[spn_cols].head(15))\n",
    "    print('\\nVista PGNs (primeras 10 filas):')\n",
    "    display(pgn_df[pgn_cols].head(10))\n",
    "else:\n",
    "    print('No hay variable data cargada en memoria. Ejecute la celda anterior que carga el JSON.')"
   ]
  },
  {
   "cell_type": "markdown",
   "id": "46bdb71d",
   "metadata": {},
   "source": [
    "## 6. Validación y resultados\n",
    "\n",
    "Al ejecutar el pipeline de extracción y ensamblado se obtuvieron conteos de SPNs y PGNs consistentes con lo esperado para las primeras páginas del documento, así como listados de ejemplo que muestran la correcta normalización de campos clave. Se verificó además que la estructura de claves de nivel superior del JSON coincide con la especificación definida para su consumo por RAG."
   ]
  },
  {
   "cell_type": "markdown",
   "id": "1f747d2e",
   "metadata": {},
   "source": [
    "## 7. Rendimiento y contratiempos\n",
    "\n",
    "Consideraciones de rendimiento:\n",
    "- PyMuPDF (fitz) se empleó como motor por defecto por su rapidez en extracción de texto. Se estableció un procesamiento por bloques (p. ej., 10 páginas) con un buffer de cola (~2000 caracteres) para capturar bloques SPN que cruzan páginas.\n",
    "- Se habilitó un límite de páginas (MAX_PAGES) para pruebas rápidas, incrementándolo gradualmente hasta procesar el documento completo.\n",
    "\n",
    "Contratiempos y soluciones:\n",
    "- Tiempos de ejecución prolongados con lectura secuencial de todo el documento: se resolvió con streaming por páginas y bloques.\n",
    "- Variaciones de formato en el PDF que afectaban el regex: se robusteció el patrón para tolerar espacios y saltos de línea.\n",
    "- Error de variable no definida en el notebook durante el ensamblado del JSON: se reescribió la celda para construir la estructura de manera autosuficiente.\n"
   ]
  },
  {
   "cell_type": "markdown",
   "id": "016e4abf",
   "metadata": {},
   "source": [
    "## 8. Conclusiones\n",
    "\n",
    "El pipeline implementado permite extraer de manera fiable las definiciones de SPN/PGN desde SAE J1939-71 y consolidarlas en un JSON apto para indexación semántica en RAG. Se logró una estructura clara y extensible, separando la semántica (SPN/PGN) de la disposición física de bits, que se delega al DBC. Las decisiones de diseño priorizaron robustez, rendimiento y trazabilidad.\n",
    "\n",
    "Impacto esperado:\n",
    "- Mejora en la precisión de recuperación contextual en el RAG al disponer de definiciones normalizadas y trazables.\n",
    "- Aceleración del cruce con DBC al contar con una base organizada por SPN y PGN."
   ]
  },
  {
   "cell_type": "markdown",
   "id": "131444ee",
   "metadata": {},
   "source": [
    "## 9. Próximos pasos\n",
    "\n",
    "Acciones de mejora priorizadas:\n",
    "1. Integración con DBC mediante cantools para derivar start_bit y length por señal y validar coherencia con el JSON.\n",
    "2. Reglas adicionales de validación: detección de inconsistencias de unidades, offset y rangos por SPN.\n",
    "3. Cobertura completa del documento: ejecución sin límite de páginas, con registro de métricas de desempeño.\n",
    "4. Enriquecimiento semántico: adición de notas y estados enumerados cuando apliquen, y referencias cruzadas entre SPNs correlacionados.\n",
    "5. Automatización CI: pruebas unitarias del parser con casos representativos y verificación de estructura del JSON antes de publicar artefactos.\n"
   ]
  }
 ],
 "metadata": {
  "language_info": {
   "name": "python"
  }
 },
 "nbformat": 4,
 "nbformat_minor": 5
}
